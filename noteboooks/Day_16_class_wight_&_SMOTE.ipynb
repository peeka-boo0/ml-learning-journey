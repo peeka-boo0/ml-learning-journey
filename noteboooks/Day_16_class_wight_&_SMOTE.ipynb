{
  "nbformat": 4,
  "nbformat_minor": 0,
  "metadata": {
    "colab": {
      "provenance": [],
      "authorship_tag": "ABX9TyPQIHsR2WEyLjPR1S/h+Hn+",
      "include_colab_link": true
    },
    "kernelspec": {
      "name": "python3",
      "display_name": "Python 3"
    },
    "language_info": {
      "name": "python"
    }
  },
  "cells": [
    {
      "cell_type": "markdown",
      "metadata": {
        "id": "view-in-github",
        "colab_type": "text"
      },
      "source": [
        "<a href=\"https://colab.research.google.com/github/peeka-boo0/ml-learning-journey/blob/main/noteboooks/Day_16_class_wight_%26_SMOTE.ipynb\" target=\"_parent\"><img src=\"https://colab.research.google.com/assets/colab-badge.svg\" alt=\"Open In Colab\"/></a>"
      ]
    },
    {
      "cell_type": "code",
      "execution_count": 1,
      "metadata": {
        "colab": {
          "base_uri": "https://localhost:8080/"
        },
        "id": "KnSYRIczR-zA",
        "outputId": "1c61dd3c-f83f-4551-baaf-f1d9632451e4"
      },
      "outputs": [
        {
          "output_type": "stream",
          "name": "stdout",
          "text": [
            "=== Normal Logistic Regression ===\n",
            "              precision    recall  f1-score   support\n",
            "\n",
            "           0       0.97      0.89      0.93        64\n",
            "           1       0.94      0.98      0.96       107\n",
            "\n",
            "    accuracy                           0.95       171\n",
            "   macro avg       0.95      0.94      0.94       171\n",
            "weighted avg       0.95      0.95      0.95       171\n",
            "\n",
            "=== Class Weight Balanced Logistic Regression ===\n",
            "              precision    recall  f1-score   support\n",
            "\n",
            "           0       0.97      0.91      0.94        64\n",
            "           1       0.95      0.98      0.96       107\n",
            "\n",
            "    accuracy                           0.95       171\n",
            "   macro avg       0.96      0.94      0.95       171\n",
            "weighted avg       0.95      0.95      0.95       171\n",
            "\n",
            "=== Logistic Regression with SMOTE ===\n",
            "              precision    recall  f1-score   support\n",
            "\n",
            "           0       0.97      0.91      0.94        64\n",
            "           1       0.95      0.98      0.96       107\n",
            "\n",
            "    accuracy                           0.95       171\n",
            "   macro avg       0.96      0.94      0.95       171\n",
            "weighted avg       0.95      0.95      0.95       171\n",
            "\n"
          ]
        }
      ],
      "source": [
        "from sklearn.datasets import load_breast_cancer\n",
        "from sklearn.model_selection import train_test_split\n",
        "from sklearn.linear_model import LogisticRegression\n",
        "from sklearn.metrics import classification_report\n",
        "from sklearn.utils.class_weight import compute_class_weight\n",
        "from imblearn.over_sampling import SMOTE\n",
        "\n",
        "# Load dataset\n",
        "data = load_breast_cancer()\n",
        "X, y = data.data, data.target\n",
        "\n",
        "# Make imbalance artificially (reduce positives)\n",
        "X_train, X_test, y_train, y_test = train_test_split(X, y, test_size=0.3, stratify=y, random_state=42) #splinting the data for no dataleakge so we can train the model on train data sat and test on test data set\n",
        "\n",
        "# ---- 1️⃣ Normal Logistic Regression ----\n",
        "clf = LogisticRegression(max_iter=5000)\n",
        "clf.fit(X_train, y_train)\n",
        "y_pred = clf.predict(X_test)\n",
        "\n",
        "print(\"=== Normal Logistic Regression ===\")\n",
        "print(classification_report(y_test, y_pred))\n",
        "\n",
        "# ---- 2️⃣ Handle imbalance with class_weight ----\n",
        "clf_weighted = LogisticRegression(max_iter=5000, class_weight=\"balanced\") #the class weight help in balancing the class datas by giving minor data the weight it need to match the same wight to majoe class\n",
        "clf_weighted.fit(X_train, y_train)\n",
        "y_pred_weighted = clf_weighted.predict(X_test)\n",
        "\n",
        "print(\"=== Class Weight Balanced Logistic Regression ===\")\n",
        "print(classification_report(y_test, y_pred_weighted))\n",
        "\n",
        "# ---- 3️⃣ Handle imbalance with SMOTE ----\n",
        "smote = SMOTE(random_state=42)  #inishlizing smote\n",
        "X_res, y_res = smote.fit_resample(X_train, y_train) #knowing the minor and major & creating the new artifical data to balance the dataset\n",
        "\n",
        "clf_smote = LogisticRegression(max_iter=5000)\n",
        "clf_smote.fit(X_res, y_res)\n",
        "y_pred_smote = clf_smote.predict(X_test)\n",
        "\n",
        "print(\"=== Logistic Regression with SMOTE ===\")\n",
        "print(classification_report(y_test, y_pred_smote))\n"
      ]
    }
  ]
}