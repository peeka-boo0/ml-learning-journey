{
  "nbformat": 4,
  "nbformat_minor": 0,
  "metadata": {
    "colab": {
      "provenance": [],
      "authorship_tag": "ABX9TyMlplUcOeH1AaRMJMFHP9LV",
      "include_colab_link": true
    },
    "kernelspec": {
      "name": "python3",
      "display_name": "Python 3"
    },
    "language_info": {
      "name": "python"
    }
  },
  "cells": [
    {
      "cell_type": "markdown",
      "metadata": {
        "id": "view-in-github",
        "colab_type": "text"
      },
      "source": [
        "<a href=\"https://colab.research.google.com/github/peeka-boo0/ml-learning-journey/blob/main/notebooks/notebook_2/Day_17_01_XGB_parametersByGridsearch.ipynb\" target=\"_parent\"><img src=\"https://colab.research.google.com/assets/colab-badge.svg\" alt=\"Open In Colab\"/></a>"
      ]
    },
    {
      "cell_type": "markdown",
      "source": [
        "Got it 👍 Let’s do a **full XGBoost tuning guide** all at once with **easy explanations**.\n",
        "\n",
        "---\n",
        "\n",
        "## 🔑 XGBoost Hyperparameters (with simple meaning)\n",
        "\n",
        "### **1. Tree complexity (biggest effect)**\n",
        "\n",
        "* `n_estimators`: number of trees (more trees = better fit but slower).\n",
        "* `learning_rate`: how fast the model learns. Small → slow but accurate.\n",
        "* `max_depth`: how deep the trees go. Big depth → overfit.\n",
        "* `min_child_weight`: min samples per split. Big → fewer splits → simpler model.\n",
        "\n",
        "### **2. Sampling (to prevent overfit & speed up)**\n",
        "\n",
        "* `subsample`: fraction of training samples per tree (like bagging).\n",
        "* `colsample_bytree`: fraction of features per tree.\n",
        "\n",
        "### **3. Regularization (to punish complexity)**\n",
        "\n",
        "* `gamma`: min loss reduction to split. Big gamma → fewer splits.\n",
        "* `reg_alpha`: L1 regularization (makes model sparse).\n",
        "* `reg_lambda`: L2 regularization (keeps weights small).\n",
        "\n",
        "### **4. Other**\n",
        "\n",
        "* `scale_pos_weight`: balances classes if data is imbalanced.\n",
        "* `n_jobs`: CPUs to use.\n",
        "\n",
        "---"
      ],
      "metadata": {
        "id": "-Bh8X3LZFFwF"
      }
    },
    {
      "cell_type": "code",
      "execution_count": null,
      "metadata": {
        "id": "n8sc1mEBFCG1"
      },
      "outputs": [],
      "source": [
        "\n",
        "## ⚡ Example Full GridSearch with All Important Params\n",
        "\n",
        "from sklearn.datasets import load_digits\n",
        "from sklearn.model_selection import train_test_split, GridSearchCV\n",
        "from sklearn.metrics import accuracy_score\n",
        "from xgboost import XGBClassifier\n",
        "\n",
        "# Load data\n",
        "digits = load_digits()\n",
        "X_train, X_test, y_train, y_test = train_test_split(\n",
        "    digits.data, digits.target, test_size=0.2, random_state=42\n",
        ")\n",
        "\n",
        "# Base model\n",
        "xgb = XGBClassifier(use_label_encoder=False, eval_metric=\"mlogloss\")\n",
        "\n",
        "# Parameter grid (common choices)\n",
        "param_grid = {\n",
        "    \"n_estimators\": [100, 200],       # number of trees\n",
        "    \"learning_rate\": [0.05, 0.1, 0.3], # step size\n",
        "    \"max_depth\": [3, 5, 7],           # tree depth\n",
        "    \"min_child_weight\": [1, 3, 5],    # min samples per split\n",
        "    \"subsample\": [0.8, 1.0],          # % of data per tree\n",
        "    \"colsample_bytree\": [0.8, 1.0],   # % of features per tree\n",
        "    \"gamma\": [0, 1],                  # min loss reduction\n",
        "    \"reg_alpha\": [0, 0.1],            # L1 regularization\n",
        "    \"reg_lambda\": [1, 2]              # L2 regularization\n",
        "}\n",
        "\n",
        "# Grid search\n",
        "grid = GridSearchCV(\n",
        "    xgb,\n",
        "    param_grid,\n",
        "    cv=3,          # 3-fold cross-validation\n",
        "    scoring=\"accuracy\",\n",
        "    verbose=1,\n",
        "    n_jobs=-1\n",
        ")\n",
        "grid.fit(X_train, y_train)\n",
        "\n",
        "# Results\n",
        "print(\"Best Params:\", grid.best_params_)\n",
        "print(\"Best CV Score:\", grid.best_score_)\n",
        "\n",
        "best_model = grid.best_estimator_\n",
        "y_pred = best_model.predict(X_test)\n",
        "print(\"Test Accuracy:\", accuracy_score(y_test, y_pred))\n",
        "\n",
        "#Fitting 3 folds for each of 1728 candidates, totalling 5184 fits (oo hell nah my laptop desnot know that mush power exist , it will gona take 25min to creat this result so thats my i didnt run this code)"
      ]
    }
  ]
}