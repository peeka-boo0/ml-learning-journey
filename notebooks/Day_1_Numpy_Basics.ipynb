{
  "nbformat": 4,
  "nbformat_minor": 0,
  "metadata": {
    "colab": {
      "provenance": [],
      "authorship_tag": "ABX9TyOdQiSMgPF1uEJPtHzP4rjQ",
      "include_colab_link": true
    },
    "kernelspec": {
      "name": "python3",
      "display_name": "Python 3"
    },
    "language_info": {
      "name": "python"
    }
  },
  "cells": [
    {
      "cell_type": "markdown",
      "metadata": {
        "id": "view-in-github",
        "colab_type": "text"
      },
      "source": [
        "<a href=\"https://colab.research.google.com/github/peeka-boo0/ml-learning-journey/blob/main/notebooks/Day_1_Numpy_Basics.ipynb\" target=\"_parent\"><img src=\"https://colab.research.google.com/assets/colab-badge.svg\" alt=\"Open In Colab\"/></a>"
      ]
    },
    {
      "cell_type": "markdown",
      "source": [
        "Practice Problems (Write these in your notebook)\n",
        "\n",
        "Create a 2D array of shape (3, 4) with random integers from 1 to 50.\n",
        "\n",
        "Slice the 2nd row.\n",
        "\n",
        "Find mean, max, and standard deviation of your array.\n",
        "\n",
        "Reshape it to (4, 3)."
      ],
      "metadata": {
        "id": "-t-UwUb5wiit"
      }
    },
    {
      "cell_type": "code",
      "execution_count": null,
      "metadata": {
        "id": "IXs5AVNTwD3J"
      },
      "outputs": [],
      "source": [
        "import numpy as np\n"
      ]
    },
    {
      "cell_type": "code",
      "source": [
        "a=np.random.randint(1,50, size=(3,4))\n",
        "print(a)\n",
        "print(a[:,1])\n",
        "print(np.mean(a))\n",
        "print(np.max(a))\n",
        "print(np.std(a))\n",
        "print(np.reshape(a,(4,3)))\n"
      ],
      "metadata": {
        "colab": {
          "base_uri": "https://localhost:8080/"
        },
        "id": "uMi5IXRTwq79",
        "outputId": "2e6435f9-ef5e-46d5-83b8-886903afbafa"
      },
      "execution_count": null,
      "outputs": [
        {
          "output_type": "stream",
          "name": "stdout",
          "text": [
            "[[ 3 33 18  9]\n",
            " [17 11 10 15]\n",
            " [25 21 41 25]]\n",
            "[33 11 21]\n",
            "19.0\n",
            "41\n",
            "10.319883720275147\n",
            "[[ 3 33 18]\n",
            " [ 9 17 11]\n",
            " [10 15 25]\n",
            " [21 41 25]]\n"
          ]
        }
      ]
    }
  ]
}