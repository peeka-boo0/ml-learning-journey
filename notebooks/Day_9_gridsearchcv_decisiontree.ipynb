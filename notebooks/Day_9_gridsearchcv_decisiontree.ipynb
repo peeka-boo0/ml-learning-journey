{
  "nbformat": 4,
  "nbformat_minor": 0,
  "metadata": {
    "colab": {
      "provenance": [],
      "authorship_tag": "ABX9TyMxTrP5HEJyX1i3pA/3n0Ud",
      "include_colab_link": true
    },
    "kernelspec": {
      "name": "python3",
      "display_name": "Python 3"
    },
    "language_info": {
      "name": "python"
    }
  },
  "cells": [
    {
      "cell_type": "markdown",
      "metadata": {
        "id": "view-in-github",
        "colab_type": "text"
      },
      "source": [
        "<a href=\"https://colab.research.google.com/github/peeka-boo0/ml-learning-journey/blob/main/notebooks/Day_9_gridsearchcv_decisiontree.ipynb\" target=\"_parent\"><img src=\"https://colab.research.google.com/assets/colab-badge.svg\" alt=\"Open In Colab\"/></a>"
      ]
    },
    {
      "cell_type": "code",
      "source": [
        "from sklearn.datasets import load_iris\n",
        "from sklearn.model_selection import GridSearchCV\n",
        "from sklearn.tree import DecisionTreeClassifier\n",
        "import pandas as pd\n",
        "\n",
        "\n",
        "#loadind the data\n",
        "iris = load_iris()\n",
        "\n",
        "#inishiling the model\n",
        "tree_model = DecisionTreeClassifier()\n",
        "\n",
        "#giving parameters\n",
        "param_grid  = {  'max_depth': [1,2,3,4,5,6,7,8,9],\n",
        "              'min_samples_split': [2,4,6,8,10]\n",
        "              }\n",
        "#hyperarametring my gridsearchcv\n",
        "\n",
        "grid_search = GridSearchCV(tree_model,param_grid,cv=5,scoring='accuracy')\n",
        "\n",
        "\n",
        "#traning the model\n",
        "grid_search.fit(iris.data,iris.target)\n",
        "\n",
        "#printing the best parameters and the score\n",
        "print(\"The best parameters are :\", grid_search.best_params_)\n",
        "print(\"The best score is :\", grid_search.best_score_)\n",
        "\n",
        "#Make results more readable\n",
        "print(pd.DataFrame(grid_search.cv_results_)[['params', 'mean_test_score']])\n",
        "\n"
      ],
      "metadata": {
        "colab": {
          "base_uri": "https://localhost:8080/"
        },
        "id": "9S71iQdDg-lX",
        "outputId": "6d8a86ad-c6bb-4570-8589-b4813e5799c2"
      },
      "execution_count": 4,
      "outputs": [
        {
          "output_type": "stream",
          "name": "stdout",
          "text": [
            "The best parameters are : {'max_depth': 3, 'min_samples_split': 2}\n",
            "The best score is : 0.9733333333333334\n",
            "                                       params  mean_test_score\n",
            "0    {'max_depth': 1, 'min_samples_split': 2}         0.666667\n",
            "1    {'max_depth': 1, 'min_samples_split': 4}         0.666667\n",
            "2    {'max_depth': 1, 'min_samples_split': 6}         0.666667\n",
            "3    {'max_depth': 1, 'min_samples_split': 8}         0.666667\n",
            "4   {'max_depth': 1, 'min_samples_split': 10}         0.666667\n",
            "5    {'max_depth': 2, 'min_samples_split': 2}         0.933333\n",
            "6    {'max_depth': 2, 'min_samples_split': 4}         0.933333\n",
            "7    {'max_depth': 2, 'min_samples_split': 6}         0.933333\n",
            "8    {'max_depth': 2, 'min_samples_split': 8}         0.933333\n",
            "9   {'max_depth': 2, 'min_samples_split': 10}         0.933333\n",
            "10   {'max_depth': 3, 'min_samples_split': 2}         0.973333\n",
            "11   {'max_depth': 3, 'min_samples_split': 4}         0.960000\n",
            "12   {'max_depth': 3, 'min_samples_split': 6}         0.973333\n",
            "13   {'max_depth': 3, 'min_samples_split': 8}         0.973333\n",
            "14  {'max_depth': 3, 'min_samples_split': 10}         0.960000\n",
            "15   {'max_depth': 4, 'min_samples_split': 2}         0.960000\n",
            "16   {'max_depth': 4, 'min_samples_split': 4}         0.953333\n",
            "17   {'max_depth': 4, 'min_samples_split': 6}         0.966667\n",
            "18   {'max_depth': 4, 'min_samples_split': 8}         0.966667\n",
            "19  {'max_depth': 4, 'min_samples_split': 10}         0.966667\n",
            "20   {'max_depth': 5, 'min_samples_split': 2}         0.960000\n",
            "21   {'max_depth': 5, 'min_samples_split': 4}         0.966667\n",
            "22   {'max_depth': 5, 'min_samples_split': 6}         0.966667\n",
            "23   {'max_depth': 5, 'min_samples_split': 8}         0.966667\n",
            "24  {'max_depth': 5, 'min_samples_split': 10}         0.966667\n",
            "25   {'max_depth': 6, 'min_samples_split': 2}         0.966667\n",
            "26   {'max_depth': 6, 'min_samples_split': 4}         0.953333\n",
            "27   {'max_depth': 6, 'min_samples_split': 6}         0.966667\n",
            "28   {'max_depth': 6, 'min_samples_split': 8}         0.966667\n",
            "29  {'max_depth': 6, 'min_samples_split': 10}         0.966667\n",
            "30   {'max_depth': 7, 'min_samples_split': 2}         0.966667\n",
            "31   {'max_depth': 7, 'min_samples_split': 4}         0.953333\n",
            "32   {'max_depth': 7, 'min_samples_split': 6}         0.966667\n",
            "33   {'max_depth': 7, 'min_samples_split': 8}         0.966667\n",
            "34  {'max_depth': 7, 'min_samples_split': 10}         0.966667\n",
            "35   {'max_depth': 8, 'min_samples_split': 2}         0.966667\n",
            "36   {'max_depth': 8, 'min_samples_split': 4}         0.960000\n",
            "37   {'max_depth': 8, 'min_samples_split': 6}         0.966667\n",
            "38   {'max_depth': 8, 'min_samples_split': 8}         0.966667\n",
            "39  {'max_depth': 8, 'min_samples_split': 10}         0.966667\n",
            "40   {'max_depth': 9, 'min_samples_split': 2}         0.960000\n",
            "41   {'max_depth': 9, 'min_samples_split': 4}         0.966667\n",
            "42   {'max_depth': 9, 'min_samples_split': 6}         0.966667\n",
            "43   {'max_depth': 9, 'min_samples_split': 8}         0.966667\n",
            "44  {'max_depth': 9, 'min_samples_split': 10}         0.966667\n"
          ]
        }
      ]
    },
    {
      "cell_type": "code",
      "source": [
        "#practice problem\n",
        "\n",
        "from sklearn.datasets import load_digits\n",
        "from sklearn.model_selection import GridSearchCV\n",
        "from sklearn.ensemble import RandomForestClassifier\n",
        "import pandas as pd\n",
        "\n",
        "\n",
        "#loading data\n",
        "digits = load_digits() #the () need cozz dataset in sklearn are functions\n",
        "\n",
        "#inishlizing model\n",
        "\n",
        "tree_model = RandomForestClassifier()\n",
        "\n",
        "#giving parameters\n",
        "param_grid  = {\n",
        "    'max_depth': [30,60,90],#value = 3   # the deepth of the trees i have put the deept a lill high cozz this data set is big\n",
        "    'min_samples_split': [2,3],#value = 2  # the minimum spilt of the data\n",
        "    'n_estimators': [800,1000], #value = 2  # number of trees i again put this a lill to high for more acc data 20-50 will be good good\n",
        "    'max_features': ['sqrt', 'log2'] #value = 2 # skiped 'auto'\n",
        "}\n",
        "   # 3 * 2 * 2 * 2 =24 models cv=5 => 24*5 =120fits\n",
        "\n",
        "\n",
        "#tuning the model\n",
        "grid_search = GridSearchCV(tree_model,param_grid,cv=5,scoring='accuracy',n_jobs=-1)\n",
        "\n",
        "\n",
        "#traning the model\n",
        "grid_search.fit(digits.data,digits.target)\n",
        "\n",
        "#printing the score\n",
        "print(\"The best parameters are :\", grid_search.best_params_)\n",
        "print(\"The best score is :\", grid_search.best_score_)\n",
        "\n",
        "#printing the all combination scores\n",
        "#print(pd.DataFrame(grid_search.cv_results_)[['params', 'mean_test_score']])\n"
      ],
      "metadata": {
        "id": "lAtpw-v0g-oK",
        "colab": {
          "base_uri": "https://localhost:8080/"
        },
        "outputId": "495e0954-56a2-4075-e623-10157ad575ae"
      },
      "execution_count": 22,
      "outputs": [
        {
          "output_type": "stream",
          "name": "stdout",
          "text": [
            "The best parameters are : {'max_depth': 60, 'max_features': 'log2', 'min_samples_split': 2, 'n_estimators': 800}\n",
            "The best score is : 0.9443686165273908\n"
          ]
        }
      ]
    },
    {
      "cell_type": "code",
      "source": [],
      "metadata": {
        "id": "2wPJNbnqg-s3"
      },
      "execution_count": null,
      "outputs": []
    },
    {
      "cell_type": "code",
      "source": [],
      "metadata": {
        "id": "G17KVhY1g-u-"
      },
      "execution_count": null,
      "outputs": []
    },
    {
      "cell_type": "code",
      "source": [],
      "metadata": {
        "id": "TOSKAUfXg-yP"
      },
      "execution_count": null,
      "outputs": []
    },
    {
      "cell_type": "code",
      "source": [],
      "metadata": {
        "id": "WJGzMVspg-0E"
      },
      "execution_count": null,
      "outputs": []
    },
    {
      "cell_type": "code",
      "source": [],
      "metadata": {
        "id": "GzmETO7wg-3k"
      },
      "execution_count": null,
      "outputs": []
    },
    {
      "cell_type": "code",
      "source": [],
      "metadata": {
        "id": "rm1MKFm5g-5f"
      },
      "execution_count": null,
      "outputs": []
    }
  ]
}