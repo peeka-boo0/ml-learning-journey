{
  "nbformat": 4,
  "nbformat_minor": 0,
  "metadata": {
    "colab": {
      "provenance": [],
      "authorship_tag": "ABX9TyOXbxQwYDZeWUPGf+33cMnx",
      "include_colab_link": true
    },
    "kernelspec": {
      "name": "python3",
      "display_name": "Python 3"
    },
    "language_info": {
      "name": "python"
    }
  },
  "cells": [
    {
      "cell_type": "markdown",
      "metadata": {
        "id": "view-in-github",
        "colab_type": "text"
      },
      "source": [
        "<a href=\"https://colab.research.google.com/github/peeka-boo0/ml-learning-journey/blob/main/notebooks/Day_9_gridsearchcv_decisiontree.ipynb\" target=\"_parent\"><img src=\"https://colab.research.google.com/assets/colab-badge.svg\" alt=\"Open In Colab\"/></a>"
      ]
    },
    {
      "cell_type": "code",
      "source": [
        "from sklearn.datasets import load_iris\n",
        "from sklearn.model_selection import GridSearchCV\n",
        "from sklearn.tree import DecisionTreeClassifier\n",
        "import pandas as pd\n",
        "\n",
        "\n",
        "#loadind the data\n",
        "iris = load_iris()\n",
        "\n",
        "#inishiling the model\n",
        "tree_model = DecisionTreeClassifier()\n",
        "\n",
        "#giving parameters\n",
        "param_grid  = {  'max_depth': [1,5,10,15],\n",
        "              'min_samples_split': [2,4,6,8,10,]\n",
        "              }\n",
        "#hyperarametring my gridsearchcv\n",
        "\n",
        "grid_search = GridSearchCV(tree_model,param_grid,cv=5,scoring='accuracy')\n",
        "\n",
        "\n",
        "#traning the model\n",
        "grid_search.fit(iris.data,iris.target)\n",
        "\n",
        "#printing the best parameters and the score\n",
        "print(\"The best parameters are :\", grid_search.best_params_)\n",
        "print(\"The best score is :\", grid_search.best_score_)\n",
        "\n",
        "#Make results more readable\n",
        "print(pd.DataFrame(grid_search.cv_results_)[['params', 'mean_test_score']])\n",
        "\n"
      ],
      "metadata": {
        "colab": {
          "base_uri": "https://localhost:8080/"
        },
        "id": "9S71iQdDg-lX",
        "outputId": "4287e327-12c6-41bd-8c66-8ccf25b0be9c"
      },
      "execution_count": 4,
      "outputs": [
        {
          "output_type": "stream",
          "name": "stdout",
          "text": [
            "The best parameters are : {'max_depth': 5, 'min_samples_split': 6}\n",
            "The best score is : 0.9666666666666668\n",
            "                                        params  mean_test_score\n",
            "0     {'max_depth': 1, 'min_samples_split': 2}         0.666667\n",
            "1     {'max_depth': 1, 'min_samples_split': 4}         0.666667\n",
            "2     {'max_depth': 1, 'min_samples_split': 6}         0.666667\n",
            "3     {'max_depth': 1, 'min_samples_split': 8}         0.666667\n",
            "4    {'max_depth': 1, 'min_samples_split': 10}         0.666667\n",
            "5     {'max_depth': 5, 'min_samples_split': 2}         0.960000\n",
            "6     {'max_depth': 5, 'min_samples_split': 4}         0.960000\n",
            "7     {'max_depth': 5, 'min_samples_split': 6}         0.966667\n",
            "8     {'max_depth': 5, 'min_samples_split': 8}         0.966667\n",
            "9    {'max_depth': 5, 'min_samples_split': 10}         0.966667\n",
            "10   {'max_depth': 10, 'min_samples_split': 2}         0.960000\n",
            "11   {'max_depth': 10, 'min_samples_split': 4}         0.953333\n",
            "12   {'max_depth': 10, 'min_samples_split': 6}         0.966667\n",
            "13   {'max_depth': 10, 'min_samples_split': 8}         0.966667\n",
            "14  {'max_depth': 10, 'min_samples_split': 10}         0.966667\n",
            "15   {'max_depth': 15, 'min_samples_split': 2}         0.960000\n",
            "16   {'max_depth': 15, 'min_samples_split': 4}         0.953333\n",
            "17   {'max_depth': 15, 'min_samples_split': 6}         0.966667\n",
            "18   {'max_depth': 15, 'min_samples_split': 8}         0.966667\n",
            "19  {'max_depth': 15, 'min_samples_split': 10}         0.966667\n"
          ]
        }
      ]
    },
    {
      "cell_type": "code",
      "source": [],
      "metadata": {
        "id": "lAtpw-v0g-oK"
      },
      "execution_count": 4,
      "outputs": []
    },
    {
      "cell_type": "code",
      "source": [],
      "metadata": {
        "id": "2wPJNbnqg-s3"
      },
      "execution_count": 4,
      "outputs": []
    },
    {
      "cell_type": "code",
      "source": [],
      "metadata": {
        "id": "G17KVhY1g-u-"
      },
      "execution_count": 4,
      "outputs": []
    },
    {
      "cell_type": "code",
      "source": [],
      "metadata": {
        "id": "TOSKAUfXg-yP"
      },
      "execution_count": 4,
      "outputs": []
    },
    {
      "cell_type": "code",
      "source": [],
      "metadata": {
        "id": "WJGzMVspg-0E"
      },
      "execution_count": 4,
      "outputs": []
    },
    {
      "cell_type": "code",
      "source": [],
      "metadata": {
        "id": "GzmETO7wg-3k"
      },
      "execution_count": 4,
      "outputs": []
    },
    {
      "cell_type": "code",
      "source": [],
      "metadata": {
        "id": "rm1MKFm5g-5f"
      },
      "execution_count": 4,
      "outputs": []
    }
  ]
}