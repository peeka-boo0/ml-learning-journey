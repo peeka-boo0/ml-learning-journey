{
  "nbformat": 4,
  "nbformat_minor": 0,
  "metadata": {
    "colab": {
      "provenance": [],
      "authorship_tag": "ABX9TyOFM5fVLfUGlnJwmWNHXBtK",
      "include_colab_link": true
    },
    "kernelspec": {
      "name": "python3",
      "display_name": "Python 3"
    },
    "language_info": {
      "name": "python"
    }
  },
  "cells": [
    {
      "cell_type": "markdown",
      "metadata": {
        "id": "view-in-github",
        "colab_type": "text"
      },
      "source": [
        "<a href=\"https://colab.research.google.com/github/peeka-boo0/ml-learning-journey/blob/main/notebooks/Day_1_Numpy.ipynb\" target=\"_parent\"><img src=\"https://colab.research.google.com/assets/colab-badge.svg\" alt=\"Open In Colab\"/></a>"
      ]
    },
    {
      "cell_type": "markdown",
      "source": [
        "# Import numpy"
      ],
      "metadata": {
        "id": "In4AUPgDNis6"
      }
    },
    {
      "cell_type": "code",
      "execution_count": null,
      "metadata": {
        "id": "6zCnDOkbG8Y2"
      },
      "outputs": [],
      "source": [
        "import numpy as np"
      ]
    },
    {
      "cell_type": "markdown",
      "source": [
        "# The basics"
      ],
      "metadata": {
        "id": "NtxbNhIwNzVp"
      }
    },
    {
      "cell_type": "code",
      "source": [
        "a = np.array([1,2,3], dtype='int16')   #for declirimg numpy we use np.array([the list])\n",
        "\n",
        "print(a)\n",
        "\n",
        "b= np.array([[1,2,3],[4,5,6]]) #for multi dimesion do list insde a list\n",
        "\n",
        "print(b)"
      ],
      "metadata": {
        "colab": {
          "base_uri": "https://localhost:8080/"
        },
        "id": "9b_ECBoOOdAv",
        "outputId": "1549a050-1621-4b18-ceb0-3b47644f3393"
      },
      "execution_count": null,
      "outputs": [
        {
          "output_type": "stream",
          "name": "stdout",
          "text": [
            "[1 2 3]\n",
            "[[1 2 3]\n",
            " [4 5 6]]\n"
          ]
        }
      ]
    },
    {
      "cell_type": "code",
      "source": [
        "a.ndim\n",
        "#.ndim give you the dims of the array"
      ],
      "metadata": {
        "colab": {
          "base_uri": "https://localhost:8080/"
        },
        "id": "N_etryd6OA09",
        "outputId": "67f5c978-1746-4213-f9f8-75ba872e0dff"
      },
      "execution_count": null,
      "outputs": [
        {
          "output_type": "execute_result",
          "data": {
            "text/plain": [
              "2"
            ]
          },
          "metadata": {},
          "execution_count": 21
        }
      ]
    },
    {
      "cell_type": "code",
      "source": [
        "a.shape\n",
        "\n"
      ],
      "metadata": {
        "colab": {
          "base_uri": "https://localhost:8080/"
        },
        "id": "mXc94JSyOAyE",
        "outputId": "b5119fb3-cc18-443d-af0e-da730cd8ef82"
      },
      "execution_count": null,
      "outputs": [
        {
          "output_type": "execute_result",
          "data": {
            "text/plain": [
              "(2, 3)"
            ]
          },
          "metadata": {},
          "execution_count": 22
        }
      ]
    },
    {
      "cell_type": "code",
      "source": [
        "\n",
        "\n",
        "#for geting itemsize\n",
        "\n",
        "a.itemsize"
      ],
      "metadata": {
        "colab": {
          "base_uri": "https://localhost:8080/"
        },
        "id": "OM8l5styRLjI",
        "outputId": "ea6bafcd-87d8-4f2e-a67e-94451f64ec98"
      },
      "execution_count": null,
      "outputs": [
        {
          "output_type": "execute_result",
          "data": {
            "text/plain": [
              "2"
            ]
          },
          "metadata": {},
          "execution_count": 31
        }
      ]
    },
    {
      "cell_type": "code",
      "source": [
        "#for total no of items\n",
        "\n",
        "a.size\n",
        "\n"
      ],
      "metadata": {
        "colab": {
          "base_uri": "https://localhost:8080/"
        },
        "id": "GS4y5rbBSvHY",
        "outputId": "ff92eedc-15cf-437b-9920-7b37cddfd768"
      },
      "execution_count": null,
      "outputs": [
        {
          "output_type": "execute_result",
          "data": {
            "text/plain": [
              "3"
            ]
          },
          "metadata": {},
          "execution_count": 32
        }
      ]
    },
    {
      "cell_type": "markdown",
      "source": [
        "# **Accesing/Changing specifice row ,coloum ,element etc**"
      ],
      "metadata": {
        "id": "sGGbEXYkThOY"
      }
    },
    {
      "cell_type": "code",
      "source": [
        "a = np.array([[1,2,3,4,5,6,7],[8,9,10,11,12,13,14]])\n",
        "\n",
        "print(a)"
      ],
      "metadata": {
        "colab": {
          "base_uri": "https://localhost:8080/"
        },
        "id": "54Suc-zQT8Xd",
        "outputId": "2c8a0b80-b817-4761-fecd-058f499be178"
      },
      "execution_count": null,
      "outputs": [
        {
          "output_type": "stream",
          "name": "stdout",
          "text": [
            "[[ 1  2  3  4  5  6  7]\n",
            " [ 8  9 10 11 12 13 14]]\n"
          ]
        }
      ]
    },
    {
      "cell_type": "code",
      "source": [
        "#for geting an specific element from an array\n",
        "a[1,5]"
      ],
      "metadata": {
        "colab": {
          "base_uri": "https://localhost:8080/"
        },
        "id": "D6g220P1Um7y",
        "outputId": "186c343e-1b47-4432-cf05-f9be5f65b3b4"
      },
      "execution_count": null,
      "outputs": [
        {
          "output_type": "execute_result",
          "data": {
            "text/plain": [
              "np.int64(13)"
            ]
          },
          "metadata": {},
          "execution_count": 41
        }
      ]
    },
    {
      "cell_type": "code",
      "source": [
        "#get a specific row\n",
        "\n",
        "a[0,:]"
      ],
      "metadata": {
        "colab": {
          "base_uri": "https://localhost:8080/"
        },
        "id": "7hu2pbhsUnYS",
        "outputId": "ef316539-b3cf-41a0-d85b-493a84aea807"
      },
      "execution_count": null,
      "outputs": [
        {
          "output_type": "execute_result",
          "data": {
            "text/plain": [
              "array([1, 2, 3, 4, 5, 6, 7])"
            ]
          },
          "metadata": {},
          "execution_count": 42
        }
      ]
    },
    {
      "cell_type": "code",
      "source": [
        "#for geting all the column\n",
        "\n",
        "a[:,2]"
      ],
      "metadata": {
        "colab": {
          "base_uri": "https://localhost:8080/"
        },
        "id": "MtWodZ4EUnyp",
        "outputId": "3a8731ca-29ac-4352-b37e-cc6195771eba"
      },
      "execution_count": null,
      "outputs": [
        {
          "output_type": "execute_result",
          "data": {
            "text/plain": [
              "array([ 3, 10])"
            ]
          },
          "metadata": {},
          "execution_count": 45
        }
      ]
    },
    {
      "cell_type": "code",
      "source": [
        "# getting lill more fancy [stating:endindex:stepsize]\n",
        "\n",
        "a[0,1:6:2]"
      ],
      "metadata": {
        "colab": {
          "base_uri": "https://localhost:8080/"
        },
        "id": "1A3odmoWUoKm",
        "outputId": "2f1ced7e-ec17-45d1-802a-fd0cc82a9069"
      },
      "execution_count": null,
      "outputs": [
        {
          "output_type": "execute_result",
          "data": {
            "text/plain": [
              "array([2, 4, 6])"
            ]
          },
          "metadata": {},
          "execution_count": 46
        }
      ]
    },
    {
      "cell_type": "code",
      "source": [
        "a[1,5]=20\n",
        "\n",
        "print(a)\n",
        "\n",
        "a[:,2]=7\n",
        "print(a)"
      ],
      "metadata": {
        "colab": {
          "base_uri": "https://localhost:8080/"
        },
        "id": "Sh5fWjVoXdEv",
        "outputId": "0187c54a-be42-4b6a-d6ce-32f2e0a0e84a"
      },
      "execution_count": null,
      "outputs": [
        {
          "output_type": "stream",
          "name": "stdout",
          "text": [
            "[[ 1  2  3  4  5  6  7]\n",
            " [ 8  9 10 11 12 20 14]]\n",
            "[[ 1  2  7  4  5  6  7]\n",
            " [ 8  9  7 11 12 20 14]]\n"
          ]
        }
      ]
    },
    {
      "cell_type": "code",
      "source": [
        "d=np.array([[[1,2,3]],[[4,5,6]],[[7,8,9]]])\n",
        "print(d)\n",
        "d.shape"
      ],
      "metadata": {
        "colab": {
          "base_uri": "https://localhost:8080/"
        },
        "id": "TfAaTIcDXyoW",
        "outputId": "3cd59716-1cca-45ef-8ab9-b391b4173cfc"
      },
      "execution_count": null,
      "outputs": [
        {
          "output_type": "stream",
          "name": "stdout",
          "text": [
            "[[[1 2 3]]\n",
            "\n",
            " [[4 5 6]]\n",
            "\n",
            " [[7 8 9]]]\n"
          ]
        },
        {
          "output_type": "execute_result",
          "data": {
            "text/plain": [
              "(3, 1, 3)"
            ]
          },
          "metadata": {},
          "execution_count": 56
        }
      ]
    },
    {
      "cell_type": "code",
      "source": [
        "d[2,0,0]"
      ],
      "metadata": {
        "colab": {
          "base_uri": "https://localhost:8080/"
        },
        "id": "_rEc17eoYliJ",
        "outputId": "4340966c-4e13-4afe-e743-9bd8b2ad494a"
      },
      "execution_count": null,
      "outputs": [
        {
          "output_type": "execute_result",
          "data": {
            "text/plain": [
              "np.int64(7)"
            ]
          },
          "metadata": {},
          "execution_count": 59
        }
      ]
    },
    {
      "cell_type": "markdown",
      "source": [
        "# **initializing different type of arrays**"
      ],
      "metadata": {
        "id": "TIJS_Di8cCAY"
      }
    },
    {
      "cell_type": "code",
      "source": [
        "#all zero matrix\n",
        "\n",
        "np.zeros((2,3))"
      ],
      "metadata": {
        "colab": {
          "base_uri": "https://localhost:8080/"
        },
        "id": "mGPqNMjjcgm-",
        "outputId": "e6dd2adf-7695-44e0-c8ae-8fc8aa3f8925"
      },
      "execution_count": null,
      "outputs": [
        {
          "output_type": "execute_result",
          "data": {
            "text/plain": [
              "array([[0., 0., 0.],\n",
              "       [0., 0., 0.]])"
            ]
          },
          "metadata": {},
          "execution_count": 60
        }
      ]
    },
    {
      "cell_type": "code",
      "source": [
        "#all 1s mateix\n",
        "np.ones((4,2,2),dtype='int32')"
      ],
      "metadata": {
        "colab": {
          "base_uri": "https://localhost:8080/"
        },
        "id": "8kAMISe9b98E",
        "outputId": "679b6e1f-3991-4adf-ad2a-0c71bfed97d9"
      },
      "execution_count": null,
      "outputs": [
        {
          "output_type": "execute_result",
          "data": {
            "text/plain": [
              "array([[[1, 1],\n",
              "        [1, 1]],\n",
              "\n",
              "       [[1, 1],\n",
              "        [1, 1]],\n",
              "\n",
              "       [[1, 1],\n",
              "        [1, 1]],\n",
              "\n",
              "       [[1, 1],\n",
              "        [1, 1]]], dtype=int32)"
            ]
          },
          "metadata": {},
          "execution_count": 61
        }
      ]
    },
    {
      "cell_type": "code",
      "source": [
        "#any other number\n",
        "\n",
        "np.full((2,2),99)"
      ],
      "metadata": {
        "colab": {
          "base_uri": "https://localhost:8080/"
        },
        "id": "vOqT1h9EcQXo",
        "outputId": "5ca6a717-5361-453a-8275-1569913e588d"
      },
      "execution_count": null,
      "outputs": [
        {
          "output_type": "execute_result",
          "data": {
            "text/plain": [
              "array([[99, 99],\n",
              "       [99, 99]])"
            ]
          },
          "metadata": {},
          "execution_count": 62
        }
      ]
    },
    {
      "cell_type": "code",
      "source": [
        "#for chaning an list the alrady exexting with a number (full_like)\n",
        "\n",
        "np.full_like(a,4)"
      ],
      "metadata": {
        "colab": {
          "base_uri": "https://localhost:8080/"
        },
        "id": "n3eDC7vrcQOD",
        "outputId": "5001883b-2289-44d3-f335-72bcbb8948ab"
      },
      "execution_count": null,
      "outputs": [
        {
          "output_type": "execute_result",
          "data": {
            "text/plain": [
              "array([[4, 4, 4, 4, 4, 4, 4],\n",
              "       [4, 4, 4, 4, 4, 4, 4]])"
            ]
          },
          "metadata": {},
          "execution_count": 63
        }
      ]
    },
    {
      "cell_type": "code",
      "source": [
        "#for a arry with random decimel number\n",
        "\n",
        "np.random.rand(4,2)"
      ],
      "metadata": {
        "colab": {
          "base_uri": "https://localhost:8080/"
        },
        "id": "yO2jydFTcQEd",
        "outputId": "efc48554-2171-41da-84bf-43fc68ffd5fa"
      },
      "execution_count": null,
      "outputs": [
        {
          "output_type": "execute_result",
          "data": {
            "text/plain": [
              "array([[0.5002475 , 0.36274202],\n",
              "       [0.65280433, 0.18578053],\n",
              "       [0.2644568 , 0.43643019],\n",
              "       [0.15430568, 0.99312721]])"
            ]
          },
          "metadata": {},
          "execution_count": 64
        }
      ]
    },
    {
      "cell_type": "code",
      "source": [
        "#for a arry with random integer values\n",
        "\n",
        "np.random.randint(0,7,size=(3,3))\n"
      ],
      "metadata": {
        "colab": {
          "base_uri": "https://localhost:8080/"
        },
        "id": "OXiPeAc5cP5E",
        "outputId": "a4682feb-1983-451d-9586-c8a1acab923b"
      },
      "execution_count": null,
      "outputs": [
        {
          "output_type": "execute_result",
          "data": {
            "text/plain": [
              "array([[5, 1, 1],\n",
              "       [5, 0, 0],\n",
              "       [5, 6, 2]])"
            ]
          },
          "metadata": {},
          "execution_count": 67
        }
      ]
    },
    {
      "cell_type": "code",
      "source": [
        "#for creating a identical arry\n",
        "np.identity(5)"
      ],
      "metadata": {
        "colab": {
          "base_uri": "https://localhost:8080/"
        },
        "id": "ZkAiKkHocPtw",
        "outputId": "57cbec93-165b-4a3c-ed9d-7bef7a050758"
      },
      "execution_count": null,
      "outputs": [
        {
          "output_type": "execute_result",
          "data": {
            "text/plain": [
              "array([[1., 0., 0., 0., 0.],\n",
              "       [0., 1., 0., 0., 0.],\n",
              "       [0., 0., 1., 0., 0.],\n",
              "       [0., 0., 0., 1., 0.],\n",
              "       [0., 0., 0., 0., 1.]])"
            ]
          },
          "metadata": {},
          "execution_count": 68
        }
      ]
    },
    {
      "cell_type": "code",
      "source": [
        "#repiting array to creat a new ARRAY\n",
        "arr=np.array([[1,2,3]])\n",
        "r1=np.repeat(arr,3,axis=0)\n",
        "print(r1)\n"
      ],
      "metadata": {
        "colab": {
          "base_uri": "https://localhost:8080/"
        },
        "id": "T3ue8HaIf-Vy",
        "outputId": "85ad5ce9-9bae-4624-be2c-4e2d3976519f"
      },
      "execution_count": null,
      "outputs": [
        {
          "output_type": "stream",
          "name": "stdout",
          "text": [
            "[[1 2 3]\n",
            " [1 2 3]\n",
            " [1 2 3]]\n"
          ]
        }
      ]
    },
    {
      "cell_type": "code",
      "source": [],
      "metadata": {
        "id": "S7R3JQDu84yC"
      },
      "execution_count": null,
      "outputs": []
    },
    {
      "cell_type": "markdown",
      "source": [
        "# **Task 1**"
      ],
      "metadata": {
        "id": "x_W3GTurhRx6"
      }
    },
    {
      "cell_type": "code",
      "source": [
        "# f1=np.ones((5,5))\n",
        "print(f1)\n",
        "f2=np.zeros((3,3))\n",
        "print(f2)\n",
        "f2[1,1]=9\n",
        "print(f2)\n",
        "f1[1:4,1:4]=f2\n",
        "print(f1)\n"
      ],
      "metadata": {
        "colab": {
          "base_uri": "https://localhost:8080/"
        },
        "id": "2vr32kIYcPjQ",
        "outputId": "eb4b96f0-b2ab-448c-8886-ec1a9525270b"
      },
      "execution_count": null,
      "outputs": [
        {
          "output_type": "stream",
          "name": "stdout",
          "text": [
            "[[1. 1. 1. 1. 1.]\n",
            " [1. 1. 1. 1. 1.]\n",
            " [1. 1. 1. 1. 1.]\n",
            " [1. 1. 1. 1. 1.]\n",
            " [1. 1. 1. 1. 1.]]\n",
            "[[0. 0. 0.]\n",
            " [0. 0. 0.]\n",
            " [0. 0. 0.]]\n",
            "[[0. 0. 0.]\n",
            " [0. 9. 0.]\n",
            " [0. 0. 0.]]\n",
            "[[1. 1. 1. 1. 1.]\n",
            " [1. 0. 0. 0. 1.]\n",
            " [1. 0. 9. 0. 1.]\n",
            " [1. 0. 0. 0. 1.]\n",
            " [1. 1. 1. 1. 1.]]\n"
          ]
        }
      ]
    },
    {
      "cell_type": "markdown",
      "source": [
        "# **copping an array **"
      ],
      "metadata": {
        "id": "ht8SIwh7WLq4"
      }
    },
    {
      "cell_type": "code",
      "source": [
        " a = np.array([1,2,3])\n",
        "\n",
        "#b=a\n",
        "'''the = will not assine the value of a to b\n",
        "insted it will point the same data stored in memory\n",
        "like this will store pointer address and any change\n",
        "in b will gonna affect a'''\n",
        "\n",
        "b=a.copy()\n",
        "b[0]=100\n",
        "print(a)\n",
        "print(b)\n"
      ],
      "metadata": {
        "id": "RqHbTlOLcPWZ",
        "colab": {
          "base_uri": "https://localhost:8080/"
        },
        "outputId": "82bcf913-8bd0-4ab8-e817-e87a07386de5"
      },
      "execution_count": null,
      "outputs": [
        {
          "output_type": "stream",
          "name": "stdout",
          "text": [
            "[1 2 3]\n",
            "[100   2   3]\n"
          ]
        }
      ]
    },
    {
      "cell_type": "markdown",
      "source": [
        "# **Mathmatice**"
      ],
      "metadata": {
        "id": "oibSg8nEYUFj"
      }
    },
    {
      "cell_type": "code",
      "source": [
        "a = np.array([1,2,3,4])\n",
        "print(a)"
      ],
      "metadata": {
        "colab": {
          "base_uri": "https://localhost:8080/"
        },
        "id": "N9PPw4B5YQck",
        "outputId": "3e072ff4-a112-4114-9910-2518e7efe1a3"
      },
      "execution_count": null,
      "outputs": [
        {
          "output_type": "stream",
          "name": "stdout",
          "text": [
            "[1 2 3 4]\n"
          ]
        }
      ]
    },
    {
      "cell_type": "code",
      "source": [
        "a + 2"
      ],
      "metadata": {
        "colab": {
          "base_uri": "https://localhost:8080/"
        },
        "id": "vnL0cNljYRnw",
        "outputId": "ed86d0b8-e76a-4951-d172-3aac8e52100f"
      },
      "execution_count": null,
      "outputs": [
        {
          "output_type": "execute_result",
          "data": {
            "text/plain": [
              "array([3, 4, 5, 6])"
            ]
          },
          "metadata": {},
          "execution_count": 6
        }
      ]
    },
    {
      "cell_type": "code",
      "source": [
        "a - 2\n"
      ],
      "metadata": {
        "id": "dDVzTXOkYRvl"
      },
      "execution_count": null,
      "outputs": []
    },
    {
      "cell_type": "code",
      "source": [
        "a*2"
      ],
      "metadata": {
        "id": "ArPViVUtYR6p"
      },
      "execution_count": null,
      "outputs": []
    },
    {
      "cell_type": "code",
      "source": [
        "a / 2"
      ],
      "metadata": {
        "id": "DtMm0antYSOK"
      },
      "execution_count": null,
      "outputs": []
    },
    {
      "cell_type": "code",
      "source": [
        "b =np.array([1,0,1,0])\n",
        "\n",
        "a + b"
      ],
      "metadata": {
        "colab": {
          "base_uri": "https://localhost:8080/"
        },
        "id": "cCE1s4Z4YSqI",
        "outputId": "25511ea6-a77f-48c9-cede-6d05a69e6226"
      },
      "execution_count": null,
      "outputs": [
        {
          "output_type": "execute_result",
          "data": {
            "text/plain": [
              "array([2, 2, 4, 4])"
            ]
          },
          "metadata": {},
          "execution_count": 7
        }
      ]
    },
    {
      "cell_type": "code",
      "source": [
        "a ** 2"
      ],
      "metadata": {
        "colab": {
          "base_uri": "https://localhost:8080/"
        },
        "id": "vAQQ0kA9ZbI4",
        "outputId": "4a16a277-212b-41db-9e7f-7828cdad2e71"
      },
      "execution_count": null,
      "outputs": [
        {
          "output_type": "execute_result",
          "data": {
            "text/plain": [
              "array([ 1,  4,  9, 16])"
            ]
          },
          "metadata": {},
          "execution_count": 8
        }
      ]
    },
    {
      "cell_type": "code",
      "source": [
        "#taking trignometry values\n",
        "\n",
        "np.sin(a)"
      ],
      "metadata": {
        "colab": {
          "base_uri": "https://localhost:8080/"
        },
        "id": "CVjUpYYpZbFx",
        "outputId": "53904219-5e87-4471-c796-e20489f628fc"
      },
      "execution_count": null,
      "outputs": [
        {
          "output_type": "execute_result",
          "data": {
            "text/plain": [
              "array([ 0.84147098,  0.90929743,  0.14112001, -0.7568025 ])"
            ]
          },
          "metadata": {},
          "execution_count": 9
        }
      ]
    },
    {
      "cell_type": "markdown",
      "source": [
        "# **lineaar algebra**"
      ],
      "metadata": {
        "id": "hOCOnCtYZ_Z6"
      }
    },
    {
      "cell_type": "code",
      "source": [
        "a = np.array([[1,2],[3,4]])\n",
        "print(a)\n",
        "\n",
        "b = np.full((2,3),2)\n",
        "print(b)\n",
        "\n",
        "np.matmul(a,b)"
      ],
      "metadata": {
        "colab": {
          "base_uri": "https://localhost:8080/"
        },
        "id": "Q77MWwQoZbDD",
        "outputId": "bec361df-6dd8-4801-db15-5c9270ef29e7"
      },
      "execution_count": null,
      "outputs": [
        {
          "output_type": "stream",
          "name": "stdout",
          "text": [
            "[[1 2]\n",
            " [3 4]]\n",
            "[[2 2 2]\n",
            " [2 2 2]]\n"
          ]
        },
        {
          "output_type": "execute_result",
          "data": {
            "text/plain": [
              "array([[ 6,  6,  6],\n",
              "       [14, 14, 14]])"
            ]
          },
          "metadata": {},
          "execution_count": 10
        }
      ]
    },
    {
      "cell_type": "code",
      "source": [
        "c = np.identity(3)\n",
        "np.linalg.det(c)"
      ],
      "metadata": {
        "colab": {
          "base_uri": "https://localhost:8080/"
        },
        "id": "uxmi8gfwZbAI",
        "outputId": "2e82b32d-c09c-45a8-ed51-de225acfe419"
      },
      "execution_count": null,
      "outputs": [
        {
          "output_type": "execute_result",
          "data": {
            "text/plain": [
              "np.float64(1.0)"
            ]
          },
          "metadata": {},
          "execution_count": 11
        }
      ]
    },
    {
      "cell_type": "markdown",
      "source": [
        "# **statistice**"
      ],
      "metadata": {
        "id": "ThKD-UnUa8De"
      }
    },
    {
      "cell_type": "code",
      "source": [
        "stats = np.array([[1,2,3],[4,5,6]])\n",
        "stats"
      ],
      "metadata": {
        "colab": {
          "base_uri": "https://localhost:8080/"
        },
        "id": "LHUPCW9VZa-C",
        "outputId": "6648f331-0d05-413f-a01a-edc42a1f4bdb"
      },
      "execution_count": null,
      "outputs": [
        {
          "output_type": "execute_result",
          "data": {
            "text/plain": [
              "array([[1, 2, 3],\n",
              "       [4, 5, 6]])"
            ]
          },
          "metadata": {},
          "execution_count": 12
        }
      ]
    },
    {
      "cell_type": "code",
      "source": [
        "np.min(stats)\n"
      ],
      "metadata": {
        "colab": {
          "base_uri": "https://localhost:8080/"
        },
        "id": "s2BeH8EoZa67",
        "outputId": "7830d056-9f64-4955-fa3f-a5185c8991f1"
      },
      "execution_count": null,
      "outputs": [
        {
          "output_type": "execute_result",
          "data": {
            "text/plain": [
              "np.int64(1)"
            ]
          },
          "metadata": {},
          "execution_count": 13
        }
      ]
    },
    {
      "cell_type": "code",
      "source": [
        "np.max(stats,axis=1)"
      ],
      "metadata": {
        "colab": {
          "base_uri": "https://localhost:8080/"
        },
        "id": "h2xWuwIIZa41",
        "outputId": "d886f5ac-0b42-48fc-da28-123a8d3a0f54"
      },
      "execution_count": null,
      "outputs": [
        {
          "output_type": "execute_result",
          "data": {
            "text/plain": [
              "array([3, 6])"
            ]
          },
          "metadata": {},
          "execution_count": 15
        }
      ]
    },
    {
      "cell_type": "code",
      "source": [
        "np.sum(stats)"
      ],
      "metadata": {
        "colab": {
          "base_uri": "https://localhost:8080/"
        },
        "id": "-9dJzsZQZaxz",
        "outputId": "f5542a10-025f-4d6f-f181-1d32e80b0344"
      },
      "execution_count": null,
      "outputs": [
        {
          "output_type": "execute_result",
          "data": {
            "text/plain": [
              "np.int64(21)"
            ]
          },
          "metadata": {},
          "execution_count": 16
        }
      ]
    },
    {
      "cell_type": "markdown",
      "source": [
        "# **Reorgeniging array**"
      ],
      "metadata": {
        "id": "x-Jq75OBcQUP"
      }
    },
    {
      "cell_type": "code",
      "source": [
        "before = np.array([[1,2,3,4],[5,6,7,8]])\n",
        "print(before)\n",
        "\n",
        "after = before.reshape((8,1))\n",
        "print(after)"
      ],
      "metadata": {
        "colab": {
          "base_uri": "https://localhost:8080/"
        },
        "id": "2yKx461DZan0",
        "outputId": "64bea572-09b3-4044-a08f-17d8af644895"
      },
      "execution_count": null,
      "outputs": [
        {
          "output_type": "stream",
          "name": "stdout",
          "text": [
            "[[1 2 3 4]\n",
            " [5 6 7 8]]\n",
            "[[1]\n",
            " [2]\n",
            " [3]\n",
            " [4]\n",
            " [5]\n",
            " [6]\n",
            " [7]\n",
            " [8]]\n"
          ]
        }
      ]
    },
    {
      "cell_type": "code",
      "source": [
        "#vertical stacking matrixex\n",
        "\n",
        "v1 = np.array([1,2,3,4])\n",
        "v2 = np.array([5,6,7,8])\n",
        "\n",
        "np.vstack([v1,v2,v1,v2])"
      ],
      "metadata": {
        "colab": {
          "base_uri": "https://localhost:8080/"
        },
        "id": "WThKb2M1ZaeS",
        "outputId": "2fb1b4ee-a18b-4727-8833-7d2a1924fa7d"
      },
      "execution_count": null,
      "outputs": [
        {
          "output_type": "execute_result",
          "data": {
            "text/plain": [
              "array([[1, 2, 3, 4],\n",
              "       [5, 6, 7, 8],\n",
              "       [1, 2, 3, 4],\n",
              "       [5, 6, 7, 8]])"
            ]
          },
          "metadata": {},
          "execution_count": 20
        }
      ]
    },
    {
      "cell_type": "code",
      "source": [
        "#horizental stacks\n",
        "h1 = np.ones((2,4))\n",
        "h2 = np.zeros((2,2))\n",
        "\n",
        "np.hstack((h1,h2))"
      ],
      "metadata": {
        "colab": {
          "base_uri": "https://localhost:8080/"
        },
        "id": "e0f2su8Cc2S-",
        "outputId": "097a3953-1027-4bdb-dd85-5e8e49d36c52"
      },
      "execution_count": null,
      "outputs": [
        {
          "output_type": "execute_result",
          "data": {
            "text/plain": [
              "array([[1., 1., 1., 1., 0., 0.],\n",
              "       [1., 1., 1., 1., 0., 0.]])"
            ]
          },
          "metadata": {},
          "execution_count": 21
        }
      ]
    },
    {
      "cell_type": "markdown",
      "source": [
        "# ***Miscellanous  ***\n",
        "\n",
        "load data from file"
      ],
      "metadata": {
        "id": "wYJXJQdWdjxn"
      }
    },
    {
      "cell_type": "code",
      "source": [
        "filedata = np.genfromtxt('data.txt',delimiter=',')\n",
        "filedata = filedata.astype('int32')\n",
        "print(filedata)"
      ],
      "metadata": {
        "colab": {
          "base_uri": "https://localhost:8080/"
        },
        "id": "1z3est0qc2QB",
        "outputId": "8396d63d-c76b-4ee9-d00e-77ceb303e8a1"
      },
      "execution_count": null,
      "outputs": [
        {
          "output_type": "stream",
          "name": "stdout",
          "text": [
            "[ 1  3  4  5  6  8  9 34  2  5 75 25 97 43  2  8 22 56 92]\n"
          ]
        }
      ]
    },
    {
      "cell_type": "markdown",
      "source": [
        "# ***boolean masking and advance indexing***"
      ],
      "metadata": {
        "id": "ZvDqR8EbfeKE"
      }
    },
    {
      "cell_type": "code",
      "source": [
        "filedata [filedata > 50]"
      ],
      "metadata": {
        "colab": {
          "base_uri": "https://localhost:8080/"
        },
        "id": "13e6u2W7c2Np",
        "outputId": "bd8ee01e-477b-4c63-9132-3a0287f7cafe"
      },
      "execution_count": null,
      "outputs": [
        {
          "output_type": "execute_result",
          "data": {
            "text/plain": [
              "array([75, 97, 56, 92], dtype=int32)"
            ]
          },
          "metadata": {},
          "execution_count": 26
        }
      ]
    },
    {
      "cell_type": "code",
      "source": [
        "#you can index with a list in numpy\n",
        "\n",
        "np.array([1,2,3,4,5,6,7,8,9])[[1,2,8]]"
      ],
      "metadata": {
        "colab": {
          "base_uri": "https://localhost:8080/"
        },
        "id": "gHa74-0wc2LZ",
        "outputId": "8fb8162d-109b-4069-f9a0-8f301c4eb6bb"
      },
      "execution_count": null,
      "outputs": [
        {
          "output_type": "execute_result",
          "data": {
            "text/plain": [
              "array([2, 3, 9])"
            ]
          },
          "metadata": {},
          "execution_count": 29
        }
      ]
    },
    {
      "cell_type": "code",
      "source": [
        "((filedata > 50 ) & (filedata < 100))"
      ],
      "metadata": {
        "colab": {
          "base_uri": "https://localhost:8080/"
        },
        "id": "5SWnG0SEc2JD",
        "outputId": "638f3e19-415d-45cf-de13-35b8606dbabc"
      },
      "execution_count": null,
      "outputs": [
        {
          "output_type": "execute_result",
          "data": {
            "text/plain": [
              "array([False, False, False, False, False, False, False, False, False,\n",
              "       False,  True, False,  True, False, False, False, False,  True,\n",
              "        True])"
            ]
          },
          "metadata": {},
          "execution_count": 30
        }
      ]
    },
    {
      "cell_type": "code",
      "source": [],
      "metadata": {
        "id": "J6d52lldc2G7"
      },
      "execution_count": null,
      "outputs": []
    },
    {
      "cell_type": "code",
      "source": [],
      "metadata": {
        "id": "f3-mT6TNc2Ey"
      },
      "execution_count": null,
      "outputs": []
    },
    {
      "cell_type": "code",
      "source": [],
      "metadata": {
        "id": "7PtxsuVRc2B1"
      },
      "execution_count": null,
      "outputs": []
    },
    {
      "cell_type": "code",
      "source": [],
      "metadata": {
        "id": "kR8BHtqVc1-X"
      },
      "execution_count": null,
      "outputs": []
    },
    {
      "cell_type": "code",
      "source": [],
      "metadata": {
        "id": "cqTgWR3Yc17T"
      },
      "execution_count": null,
      "outputs": []
    },
    {
      "cell_type": "code",
      "source": [],
      "metadata": {
        "id": "xY1ZUvuic15D"
      },
      "execution_count": null,
      "outputs": []
    },
    {
      "cell_type": "code",
      "source": [],
      "metadata": {
        "id": "8CqsvmYyc12G"
      },
      "execution_count": null,
      "outputs": []
    },
    {
      "cell_type": "code",
      "source": [],
      "metadata": {
        "id": "XazxB01uc10E"
      },
      "execution_count": null,
      "outputs": []
    },
    {
      "cell_type": "code",
      "source": [],
      "metadata": {
        "id": "96J2lKLtc1xJ"
      },
      "execution_count": null,
      "outputs": []
    },
    {
      "cell_type": "code",
      "source": [],
      "metadata": {
        "id": "Ey7m7cPIc1vH"
      },
      "execution_count": null,
      "outputs": []
    },
    {
      "cell_type": "code",
      "source": [],
      "metadata": {
        "id": "ByT3C1ZXc1rp"
      },
      "execution_count": null,
      "outputs": []
    },
    {
      "cell_type": "code",
      "source": [],
      "metadata": {
        "id": "c3QfFLmwc1pd"
      },
      "execution_count": null,
      "outputs": []
    },
    {
      "cell_type": "code",
      "source": [],
      "metadata": {
        "id": "QpcxU_Kgc1mV"
      },
      "execution_count": null,
      "outputs": []
    },
    {
      "cell_type": "code",
      "source": [],
      "metadata": {
        "id": "MsulWZgFc1kU"
      },
      "execution_count": null,
      "outputs": []
    }
  ]
}
