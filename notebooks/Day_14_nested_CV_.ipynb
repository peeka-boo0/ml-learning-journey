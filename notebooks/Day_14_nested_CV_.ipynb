{
  "nbformat": 4,
  "nbformat_minor": 0,
  "metadata": {
    "colab": {
      "provenance": [],
      "authorship_tag": "ABX9TyMvfKGhwwMsvMg6Roi5mJBD",
      "include_colab_link": true
    },
    "kernelspec": {
      "name": "python3",
      "display_name": "Python 3"
    },
    "language_info": {
      "name": "python"
    }
  },
  "cells": [
    {
      "cell_type": "markdown",
      "metadata": {
        "id": "view-in-github",
        "colab_type": "text"
      },
      "source": [
        "<a href=\"https://colab.research.google.com/github/peeka-boo0/ml-learning-journey/blob/main/notebooks/Day_14_nested_CV_.ipynb\" target=\"_parent\"><img src=\"https://colab.research.google.com/assets/colab-badge.svg\" alt=\"Open In Colab\"/></a>"
      ]
    },
    {
      "cell_type": "code",
      "execution_count": 1,
      "metadata": {
        "colab": {
          "base_uri": "https://localhost:8080/"
        },
        "id": "5Avm0Rp4ye3o",
        "outputId": "317da13d-b869-468e-9827-a87cfb1c9564"
      },
      "outputs": [
        {
          "output_type": "stream",
          "name": "stdout",
          "text": [
            "Nested CV scores: [0.93055556 0.925      0.95543175 0.97493036 0.93036212]\n",
            "Mean Nested CV score: 0.9432559579077685\n"
          ]
        }
      ],
      "source": [
        "#nested cv\n",
        "\n",
        "from sklearn.datasets import load_digits\n",
        "from sklearn.ensemble import RandomForestClassifier\n",
        "from sklearn.model_selection import GridSearchCV, cross_val_score, StratifiedKFold\n",
        "import numpy as np\n",
        "\n",
        "# Load data\n",
        "digits = load_digits()\n",
        "X, y = digits.data, digits.target\n",
        "\n",
        "# Base model\n",
        "rf = RandomForestClassifier(random_state=42)\n",
        "\n",
        "# Hyperparameter grid\n",
        "param_grid = {\n",
        "    'n_estimators': [100, 200],\n",
        "    'max_depth': [10, 20],\n",
        "    'max_features': ['sqrt', 'log2']\n",
        "}\n",
        "\n",
        "# Inner loop (for hyperparameter tuning)\n",
        "inner_cv = StratifiedKFold(n_splits=3)   #the iner loop can give models which get lucky\n",
        "\n",
        "# Outer loop (for unbiased evaluation)\n",
        "outer_cv = StratifiedKFold(n_splits=5)  #the outer loop helps in lowring the chance for model get lucky by retesting them on diffret test\n",
        "\n",
        "# Wrap GridSearchCV inside outer CV\n",
        "grid_search = GridSearchCV(rf, param_grid, cv=inner_cv, scoring='accuracy')\n",
        "\n",
        "# Run nested CV\n",
        "nested_scores = cross_val_score(grid_search, X, y, cv=outer_cv, scoring='accuracy')\n",
        "\n",
        "print(\"Nested CV scores:\", nested_scores)\n",
        "print(\"Mean Nested CV score:\", np.mean(nested_scores))\n"
      ]
    }
  ]
}