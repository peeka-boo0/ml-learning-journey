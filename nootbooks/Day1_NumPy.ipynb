https://colab.research.google.com/drive/14KsDJN_lVyU1ArFB244w7B4ouVoR1BtO?usp=sharing
